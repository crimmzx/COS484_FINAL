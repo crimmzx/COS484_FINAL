{
  "cells": [
    {
      "cell_type": "markdown",
      "metadata": {
        "id": "_ggaEho07q6t"
      },
      "source": [
        "# Setup"
      ]
    },
    {
      "cell_type": "markdown",
      "metadata": {
        "id": "UHMPV13h7uwP"
      },
      "source": [
        "## Install Dependencies"
      ]
    },
    {
      "cell_type": "code",
      "execution_count": 1,
      "metadata": {
        "id": "WRXYASy-3lDZ"
      },
      "outputs": [
        {
          "name": "stdout",
          "output_type": "stream",
          "text": [
            "Processing ./pal\n",
            "  Installing build dependencies ... \u001b[?25ldone\n",
            "\u001b[?25h  Getting requirements to build wheel ... \u001b[?25ldone\n",
            "\u001b[?25h  Preparing metadata (pyproject.toml) ... \u001b[?25ldone\n",
            "\u001b[?25hRequirement already satisfied: openai in ./.venv/lib/python3.13/site-packages (from pal==0.1) (1.76.2)\n",
            "Requirement already satisfied: python-dateutil in ./.venv/lib/python3.13/site-packages (from pal==0.1) (2.9.0.post0)\n",
            "Requirement already satisfied: anyio<5,>=3.5.0 in ./.venv/lib/python3.13/site-packages (from openai->pal==0.1) (4.9.0)\n",
            "Requirement already satisfied: distro<2,>=1.7.0 in ./.venv/lib/python3.13/site-packages (from openai->pal==0.1) (1.9.0)\n",
            "Requirement already satisfied: httpx<1,>=0.23.0 in ./.venv/lib/python3.13/site-packages (from openai->pal==0.1) (0.28.1)\n",
            "Requirement already satisfied: jiter<1,>=0.4.0 in ./.venv/lib/python3.13/site-packages (from openai->pal==0.1) (0.9.0)\n",
            "Requirement already satisfied: pydantic<3,>=1.9.0 in ./.venv/lib/python3.13/site-packages (from openai->pal==0.1) (2.11.3)\n",
            "Requirement already satisfied: sniffio in ./.venv/lib/python3.13/site-packages (from openai->pal==0.1) (1.3.1)\n",
            "Requirement already satisfied: tqdm>4 in ./.venv/lib/python3.13/site-packages (from openai->pal==0.1) (4.67.1)\n",
            "Requirement already satisfied: typing-extensions<5,>=4.11 in ./.venv/lib/python3.13/site-packages (from openai->pal==0.1) (4.13.2)\n",
            "Requirement already satisfied: idna>=2.8 in ./.venv/lib/python3.13/site-packages (from anyio<5,>=3.5.0->openai->pal==0.1) (3.10)\n",
            "Requirement already satisfied: certifi in ./.venv/lib/python3.13/site-packages (from httpx<1,>=0.23.0->openai->pal==0.1) (2025.1.31)\n",
            "Requirement already satisfied: httpcore==1.* in ./.venv/lib/python3.13/site-packages (from httpx<1,>=0.23.0->openai->pal==0.1) (1.0.8)\n",
            "Requirement already satisfied: h11<0.15,>=0.13 in ./.venv/lib/python3.13/site-packages (from httpcore==1.*->httpx<1,>=0.23.0->openai->pal==0.1) (0.14.0)\n",
            "Requirement already satisfied: annotated-types>=0.6.0 in ./.venv/lib/python3.13/site-packages (from pydantic<3,>=1.9.0->openai->pal==0.1) (0.7.0)\n",
            "Requirement already satisfied: pydantic-core==2.33.1 in ./.venv/lib/python3.13/site-packages (from pydantic<3,>=1.9.0->openai->pal==0.1) (2.33.1)\n",
            "Requirement already satisfied: typing-inspection>=0.4.0 in ./.venv/lib/python3.13/site-packages (from pydantic<3,>=1.9.0->openai->pal==0.1) (0.4.0)\n",
            "Requirement already satisfied: six>=1.5 in ./.venv/lib/python3.13/site-packages (from python-dateutil->pal==0.1) (1.17.0)\n",
            "Building wheels for collected packages: pal\n",
            "  Building wheel for pal (pyproject.toml) ... \u001b[?25ldone\n",
            "\u001b[?25h  Created wheel for pal: filename=pal-0.1-py3-none-any.whl size=19899 sha256=4032123fd194993bcc7d89e6a83d27ef39705fd013c9b1b927263cdff51fbe77\n",
            "  Stored in directory: /private/var/folders/8d/b6tnc2p90l548qg78nc_k0_m0000gn/T/pip-ephem-wheel-cache-eubpwslk/wheels/fc/96/b9/2d39b0564063a661921e159ff6fdb50d8eb7e8bdd95704e9bf\n",
            "Successfully built pal\n",
            "Installing collected packages: pal\n",
            "  Attempting uninstall: pal\n",
            "    Found existing installation: pal 0.1\n",
            "    Uninstalling pal-0.1:\n",
            "      Successfully uninstalled pal-0.1\n",
            "Successfully installed pal-0.1\n"
          ]
        }
      ],
      "source": ["!pip3 install ./pal"]
    },
    {
      "cell_type": "markdown",
      "metadata": {
        "id": "g4csR6HX7h-B"
      },
      "source": [
        "## Configure Openai API"
      ]
    },
    {
      "cell_type": "code",
      "execution_count": 15,
      "metadata": {
        "id": "Ba0ycacK4i1V"
      },
      "outputs": [],
      "source": ["import openai\nimport os\nfrom dotenv import load_dotenv\nload_dotenv()\n# @param {type:\"string\"}\nMODEL = \"gpt-4\"  # @param {type:\"string\"}"]
    },
    {
      "cell_type": "code",
      "execution_count": 16,
      "metadata": {
        "id": "H_qTZkXg42V4"
      },
      "outputs": [],
      "source": ["import pal\nfrom pal.prompt import colored_object_prompt, math_prompts, tracking_objects_prompt, web_of_lies_prompt"]
    },
    {
      "cell_type": "markdown",
      "metadata": {
        "id": "12PptLdv5HkK"
      },
      "source": [
        "# GSM-8K"
      ]
    },
    {
      "cell_type": "code",
      "execution_count": 12,
      "metadata": {
        "id": "iJ0kqDTC5SG4"
      },
      "outputs": [],
      "source": ["interface = pal.interface.ProgramInterface(model=MODEL, get_answer_expr='solution()', verbose=True)"]
    },
    {
      "cell_type": "code",
      "execution_count": 13,
      "metadata": {
        "id": "lRK5CwCG5GGE"
      },
      "outputs": [],
      "source": ["question = \"Jan has three times the number of pets as Marcia. Marcia has two more pets than Cindy. If Cindy has four pets, how many total pets do the three have?\"#@param {type:\"string\"}\nprompt = math_prompts.MATH_PROMPT.format(question=question)"]
    },
    {
      "cell_type": "markdown",
      "metadata": {},
      "source": []
    },
    {
      "cell_type": "code",
      "execution_count": 14,
      "metadata": {
        "colab": {
          "base_uri": "https://localhost:8080/"
        },
        "id": "_kwZ8Cvw50qF",
        "outputId": "bb1f26df-b03d-435c-ad09-7c71dc549850"
      },
      "outputs": [
        {
          "name": "stdout",
          "output_type": "stream",
          "text": [
            "['```python\\ndef solution():\\n    \"\"\"Jan has three times the number of pets as Marcia. Marcia has two more pets than Cindy. If Cindy has four pets, how many total pets do the three have?\"\"\"\\n    cindy_pets = 4\\n    marcia_pets = cindy_pets + 2\\n    jan_pets = 3 * marcia_pets\\n    total_pets = cindy_pets + marcia_pets + jan_pets\\n    result = total_pets\\n    return result\\n```']\n",
            "invalid syntax (<string>, line 1)\n",
            "No results was produced. A common reason is that the generated code snippet is not valid or did not return any results.\n",
            "\n",
            "==========================\n",
            "The answer is None.\n"
          ]
        }
      ],
      "source": ["answer = interface.run(prompt, time_out=10)\nprint('\\n==========================')\nprint(f'The answer is {answer}.')"]
    },
    {
      "cell_type": "markdown",
      "metadata": {
        "id": "IWsJ3bYs9JSt"
      },
      "source": [
        "# Reasoning about Colored Objects"
      ]
    },
    {
      "cell_type": "code",
      "execution_count": null,
      "metadata": {
        "id": "fxlCg3z_9Nzx"
      },
      "outputs": [],
      "source": ["interface = pal.interface.ProgramInterface(model=MODEL, get_answer_symbol='answer', stop='\\n\\n\\n', verbose=True)"]
    },
    {
      "cell_type": "code",
      "execution_count": null,
      "metadata": {
        "id": "wrRPLMjq9Tif"
      },
      "outputs": [],
      "source": ["question = \"On the desk, you see two blue booklets, two purple booklets, and two yellow pairs of sunglasses. If I remove all the pairs of sunglasses from the desk, how many purple items remain on it?\"#@param {type:\"string\"}\nprompt = colored_object_prompt.COLOR_OBJECT_PROMPT.format(question=question)"]
    },
    {
      "cell_type": "code",
      "execution_count": null,
      "metadata": {
        "colab": {
          "base_uri": "https://localhost:8080/"
        },
        "id": "z_jnBr5p9rPN",
        "outputId": "0120da7b-6ced-4b14-ce87-c453f1dab115"
      },
      "outputs": [],
      "source": ["answer = interface.run(prompt, time_out=10)\nprint('\\n==========================')\nprint(f'The answer is {answer}.')"]
    },
    {
      "cell_type": "markdown",
      "metadata": {},
      "source": [
        "# Tracking Shuffled Objects (3)"
      ]
    },
    {
      "cell_type": "code",
      "execution_count": 17,
      "metadata": {},
      "outputs": [],
      "source": ["interface = pal.interface.ProgramInterface(\n    model=MODEL, get_answer_symbol=\"answer\", stop=\"\\n\\n\\n\", verbose=True\n)"]
    },
    {
      "cell_type": "code",
      "execution_count": 18,
      "metadata": {},
      "outputs": [
        {
          "name": "stdout",
          "output_type": "stream",
          "text": [
            "# Generate Python3 Code to solve problems\n",
            "# Q: Alice, Bob, and Claire are playing a game. At the start of the game, they are each holding a ball: Alice has a yellow ball, Bob has a blue ball, and Claire has a pink ball. As the game progresses, pairs of players trade balls. First, Claire and Alice swap balls. Then, Alice and Bob swap balls. Finally, Claire and Bob swap balls. At the end of the game, Bob has the Options: (A) yellow ball (B) blue ball (C) pink ball\n",
            "\n",
            "# Initial possessions in a dictionary\n",
            "players = dict()\n",
            "players['Alice'] = 'yellow'\n",
            "players['Bob'] = 'blue'\n",
            "players['Claire'] = 'pink'\n",
            "\n",
            "# Claire and Alice swap balls\n",
            "players['Alice'], players['Claire'] = players['Claire'], players['Alice']\n",
            "# Alice and Bob swap balls\n",
            "players['Alice'], players['Bob'] = players['Bob'], players['Alice']\n",
            "# Claire and Bob swap balls\n",
            "players['Claire'], players['Bob'] = players['Bob'], players['Claire']\n",
            "bob_ball = players['Bob']\n",
            "answer = bob_ball\n",
            "    \n",
            "\n",
            "# Q: Alice, Bob, and Claire are at a speed dating event. At the start of the event, they each have a partner: Alice is chatting with Claudia, Bob is chatting with Jess, and Claire is chatting with Will. During the event, they often switch partners. First, Alice and Claire switch partners. Then, Alice and Bob switch partners. Finally, Bob and Claire switch partners. At the end of the event, Bob is chatting with Options: (A) Claudia (B) Jess (C) Will\n",
            "\n",
            "# Initial possessions in a dictionary\n",
            "partners = dict()\n",
            "partners['Alice'] = 'Claudia'\n",
            "partners['Bob'] = 'Jess'\n",
            "partners['Claire'] = 'Will'\n",
            "\n",
            "# Alice and Claire switch partners\n",
            "partners[\"Alice\"], partners[\"Claire\"] = partners[\"Claire\"], partners[\"Alice\"]\n",
            "# Alice and Bob switch partners\n",
            "partners[\"Alice\"], partners[\"Bob\"] = partners[\"Bob\"], partners[\"Alice\"]\n",
            "# Bob and Claire switch partners\n",
            "partners[\"Bob\"], partners[\"Claire\"] = partners[\"Claire\"], partners[\"Bob\"]\n",
            "bobs_partner = partners[\"Bob\"]\n",
            "answer = bobs_partner\n",
            "\n",
            "\n",
            "# Q: Alice, Bob, and Claire are at a speed dating event. At the start of the event, they each have a partner: Alice is chatting with Claudia, Bob is chatting with Jess, and Claire is chatting with Will. During the event, they often switch partners. First, Alice and Bob switch partners. Then, Claire and Bob switch partners. Finally, Alice and Claire switch partners. At the end of the event, Claire is chatting with Options: (A) Claudia (B) Jess (C) Will\n",
            "\n",
            "# Initial possessions in a dictionary\n",
            "partners = dict()\n",
            "partners['Alice'] = 'Claudia'\n",
            "partners['Bob'] = 'Jess'\n",
            "partners['Claire'] = 'Will'\n",
            "\n",
            "# Alice and Bob switch partners\n",
            "partners[\"Alice\"], partners[\"Bob\"] = partners[\"Bob\"], partners[\"Alice\"]\n",
            "\n",
            "# Bob and Claire switch partners\n",
            "players[\"Bob\"], players[\"Claire\"] = partners[\"Claire\"], partners[\"Bob\"]\n",
            "\n",
            "# Alice and Claire switch partners\n",
            "partners[\"Alice\"], partners[\"Claire\"] = partners[\"Claire\"], partners[\"Alice\"]\n",
            "claires_partner = partners[\"Claire\"]\n",
            "answer = claires_partner\n",
            "\n",
            "\n",
            "# Q: Alice, Bob, and Claire are dancers at a square dance. At the start of a song, they each have a partner: Alice is dancing with Claudia, Bob is dancing with Will, and Claire is dancing with Jess.Throughout the song, the dancers often trade partners. First, Alice and Claire switch partners. Then, Claire and Bob switch partners. Finally, Alice and Claire switch partners. At the end of the dance, Claire is dancing with Options:(A) Claudia (B) Will(C) Jess\n",
            "\n",
            "# solution using Python:\n",
            "\n"
          ]
        }
      ],
      "source": ["question = \"Alice, Bob, and Claire are dancers at a square dance. At the start of a song, they each have a partner: Alice is dancing with Claudia, Bob is dancing with Will, and Claire is dancing with Jess.Throughout the song, the dancers often trade partners. First, Alice and Claire switch partners. Then, Claire and Bob switch partners. Finally, Alice and Claire switch partners. At the end of the dance, Claire is dancing with Options:(A) Claudia (B) Will(C) Jess\"#@param {type:\"string\"}\nprompt = tracking_objects_prompt.TRACKING_OBJECTS_PROMPT.format(question=question)\nprint(prompt)"]
    },
    {
      "cell_type": "code",
      "execution_count": 19,
      "metadata": {},
      "outputs": [
        {
          "name": "stdout",
          "output_type": "stream",
          "text": [
            "[\"# Initial partners in a dictionary\\npartners = dict()\\npartners['Alice'] = 'Claudia'\\npartners['Bob'] = 'Will'\\npartners['Claire'] = 'Jess'\\n\\n# Alice and Claire switch partners\\npartners['Alice'], partners['Claire'] = partners['Claire'], partners['Alice']\\n# Claire and Bob switch partners\\npartners['Claire'], partners['Bob'] = partners['Bob'], partners['Claire']\\n# Alice and Claire switch partners\\npartners['Alice'], partners['Claire'] = partners['Claire'], partners['Alice']\\nclaires_partner = partners['Claire']\\nanswer = claires_partner\"]\n",
            "\n",
            "==========================\n",
            "The answer is Jess.\n"
          ]
        }
      ],
      "source": ["answer = interface.run(prompt, time_out=10)\nprint('\\n==========================')\nprint(f'The answer is {answer}.')"]
    },
    {
      "cell_type": "markdown",
      "metadata": {},
      "source": [
        "# Web Of Lies"
      ]
    },
    {
      "cell_type": "code",
      "execution_count": 20,
      "metadata": {},
      "outputs": [],
      "source": ["interface = pal.interface.ProgramInterface(\n    model=MODEL, get_answer_symbol=\"answer\", stop=\"\\n\\n\\n\", verbose=True\n)"]
    },
    {
      "cell_type": "code",
      "execution_count": 21,
      "metadata": {},
      "outputs": [
        {
          "name": "stdout",
          "output_type": "stream",
          "text": [
            "# Generate Python3 Code to solve problems\n",
            "Q: Fidel tells the truth. Jerry says Fidel tells the truth. Vina says Jerry tells the truth. Mill says Vina lies. Ray says Mill lies. Does Ray tell the truth?\n",
            "Fidel = True\n",
            "Jerry_says_Fidel = True\n",
            "Vina_says_Jerry = True\n",
            "Mill_says_Vina = False\n",
            "Ray_says_Mill = False\n",
            "Jerry = Jerry_says_Fidel == Fidel\n",
            "Vina = Vina_says_Jerry == Jerry\n",
            "Mill = Mill_says_Vina == Vina\n",
            "Ray = Ray_says_Mill == Mill\n",
            "answer = Ray\n",
            "\n",
            "Q: Kris lies. Millie says Kris lies. May says Millie tells the truth. Fidel says May lies. Leda says Fidel lies. Does Leda tell the truth?\n",
            "Kris = False\n",
            "Millie_says_Kris = False\n",
            "May_says_Millie = True\n",
            "Fidel_says_May = False\n",
            "Leda_says_Fidel = False\n",
            "Millie = Millie_says_Kris == Kris\n",
            "May = May_says_Millie == Millie\n",
            "Fidel = Fidel_says_May == May\n",
            "Leda = Leda_says_Fidel == Fidel\n",
            "answer = Leda\n",
            "\n",
            "Q: Erin tells the truth. Mich says Erin lies. Ray says Mich tells the truth. Oslo says Ray tells the truth. Jamey says Oslo tells the truth. Does Jamey tell the truth?\n",
            "Erin = True\n",
            "Mich_says_Erin = False\n",
            "Ray_says_Mich = True\n",
            "Oslo_says_Ray = True\n",
            "Jamey_says_Oslo = True\n",
            "Mich = Mich_says_Erin == Erin\n",
            "Ray = Ray_says_Mich == Mich\n",
            "Oslo = Oslo_says_Ray == Ray\n",
            "Jamey = Jamey_says_Oslo == Oslo\n",
            "answer = Jamey\n",
            "  \n",
            "Q: Alice tells the truth. Ben says Alice lies. Clara says Ben tells the truth. David says Clara tells the truth. Ella says David tells the truth. Does Ella tell the truth?\n",
            "Alice = True\n",
            "Ben_says_Alice = False\n",
            "Clara_says_Ben = True\n",
            "David_says_Clara = True\n",
            "Ella_says_David = True\n",
            "Ben = Ben_says_Alice == Alice\n",
            "Clara = Clara_says_Ben == Ben\n",
            "David = David_says_Clara == Clara\n",
            "Ella = Ella_says_David == David\n",
            "answer = Ella\n",
            "\n",
            "Q: Jake tells the truth. Leo says Jake tells the truth. Mia says Leo lies. Nora says Mia tells the truth. Owen says Nora lies. Does Owen tell the truth?\n",
            "Jake = True\n",
            "Leo_says_Jake = True\n",
            "Mia_says_Leo = False\n",
            "Nora_says_Mia = True\n",
            "Owen_says_Nora = False\n",
            "Leo = Leo_says_Jake == Jake\n",
            "Mia = Mia_says_Leo == Leo\n",
            "Nora = Nora_says_Mia == Mia\n",
            "Owen = Owen_says_Nora == Nora\n",
            "answer = Owen\n",
            "\n",
            "# Q: Jerry lies. Millicent says Jerry tells the truth. Sal says Millicent tells the truth. Amberly says Sal tells the truth. Shenna says Amberly lies. Does Shenna tell the truth?\n",
            "\n"
          ]
        }
      ],
      "source": ["question = \"Jerry lies. Millicent says Jerry tells the truth. Sal says Millicent tells the truth. Amberly says Sal tells the truth. Shenna says Amberly lies. Does Shenna tell the truth?\"  # @param {type:\"string\"}\nprompt = web_of_lies_prompt.WEB_OF_LIES_PROMPT.format(question=question)\nprint(prompt)"]
    },
    {
      "cell_type": "code",
      "execution_count": 22,
      "metadata": {},
      "outputs": [
        {
          "name": "stdout",
          "output_type": "stream",
          "text": [
            "['Jerry = False\\nMillicent_says_Jerry = True\\nSal_says_Millicent = True\\nAmberly_says_Sal = True\\nShenna_says_Amberly = False\\nMillicent = Millicent_says_Jerry == Jerry\\nSal = Sal_says_Millicent == Millicent\\nAmberly = Amberly_says_Sal == Sal\\nShenna = Shenna_says_Amberly == Amberly\\nanswer = Shenna']\n",
            "\n",
            "==========================\n",
            "The answer is True.\n",
            "<class 'bool'>\n"
          ]
        }
      ],
      "source": ["answer = interface.run(prompt, time_out=10)\nprint(\"\\n==========================\")\nprint(f\"The answer is {answer}.\")\nprint(type(answer))"]
    },
    {
      "cell_type": "code",
      "execution_count": null,
      "metadata": {},
      "outputs": [],
      "source": [""]
    }
  ],
  "metadata": {
    "colab": {
      "provenance": []
    },
    "kernelspec": {
      "display_name": "Python 3",
      "language": "python",
      "name": "python3"
    },
    "language_info": {
      "codemirror_mode": {
        "name": "ipython",
        "version": 3
      },
      "file_extension": ".py",
      "mimetype": "text/x-python",
      "name": "python",
      "nbconvert_exporter": "python",
      "pygments_lexer": "ipython3",
      "version": "3.9.6"
    }
  },
  "nbformat": 4,
  "nbformat_minor": 0
}
