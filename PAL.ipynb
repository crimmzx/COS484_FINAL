{
  "cells": [
    {
      "cell_type": "markdown",
      "metadata": {
        "id": "_ggaEho07q6t"
      },
      "source": [
        "# Setup"
      ]
    },
    {
      "cell_type": "markdown",
      "metadata": {
        "id": "UHMPV13h7uwP"
      },
      "source": [
        "## Install Dependencies"
      ]
    },
    {
      "cell_type": "code",
      "execution_count": 1,
      "metadata": {
        "id": "WRXYASy-3lDZ"
      },
      "outputs": [
        {
          "name": "stdout",
          "output_type": "stream",
          "text": [
            "Processing ./pal\n",
            "  Installing build dependencies ... \u001b[?25ldone\n",
            "\u001b[?25h  Getting requirements to build wheel ... \u001b[?25ldone\n",
            "\u001b[?25h  Preparing metadata (pyproject.toml) ... \u001b[?25ldone\n",
            "\u001b[?25hCollecting openai (from pal==0.1)\n",
            "  Using cached openai-1.75.0-py3-none-any.whl.metadata (25 kB)\n",
            "Requirement already satisfied: python-dateutil in ./.venv/lib/python3.13/site-packages (from pal==0.1) (2.9.0.post0)\n",
            "Collecting anyio<5,>=3.5.0 (from openai->pal==0.1)\n",
            "  Downloading anyio-4.9.0-py3-none-any.whl.metadata (4.7 kB)\n",
            "Collecting distro<2,>=1.7.0 (from openai->pal==0.1)\n",
            "  Using cached distro-1.9.0-py3-none-any.whl.metadata (6.8 kB)\n",
            "Collecting httpx<1,>=0.23.0 (from openai->pal==0.1)\n",
            "  Using cached httpx-0.28.1-py3-none-any.whl.metadata (7.1 kB)\n",
            "Collecting jiter<1,>=0.4.0 (from openai->pal==0.1)\n",
            "  Downloading jiter-0.9.0-cp313-cp313-macosx_11_0_arm64.whl.metadata (5.2 kB)\n",
            "Collecting pydantic<3,>=1.9.0 (from openai->pal==0.1)\n",
            "  Downloading pydantic-2.11.3-py3-none-any.whl.metadata (65 kB)\n",
            "Collecting sniffio (from openai->pal==0.1)\n",
            "  Using cached sniffio-1.3.1-py3-none-any.whl.metadata (3.9 kB)\n",
            "Collecting tqdm>4 (from openai->pal==0.1)\n",
            "  Using cached tqdm-4.67.1-py3-none-any.whl.metadata (57 kB)\n",
            "Collecting typing-extensions<5,>=4.11 (from openai->pal==0.1)\n",
            "  Using cached typing_extensions-4.13.2-py3-none-any.whl.metadata (3.0 kB)\n",
            "Requirement already satisfied: six>=1.5 in ./.venv/lib/python3.13/site-packages (from python-dateutil->pal==0.1) (1.17.0)\n",
            "Collecting idna>=2.8 (from anyio<5,>=3.5.0->openai->pal==0.1)\n",
            "  Using cached idna-3.10-py3-none-any.whl.metadata (10 kB)\n",
            "Collecting certifi (from httpx<1,>=0.23.0->openai->pal==0.1)\n",
            "  Using cached certifi-2025.1.31-py3-none-any.whl.metadata (2.5 kB)\n",
            "Collecting httpcore==1.* (from httpx<1,>=0.23.0->openai->pal==0.1)\n",
            "  Downloading httpcore-1.0.8-py3-none-any.whl.metadata (21 kB)\n",
            "Collecting h11<0.15,>=0.13 (from httpcore==1.*->httpx<1,>=0.23.0->openai->pal==0.1)\n",
            "  Using cached h11-0.14.0-py3-none-any.whl.metadata (8.2 kB)\n",
            "Collecting annotated-types>=0.6.0 (from pydantic<3,>=1.9.0->openai->pal==0.1)\n",
            "  Using cached annotated_types-0.7.0-py3-none-any.whl.metadata (15 kB)\n",
            "Collecting pydantic-core==2.33.1 (from pydantic<3,>=1.9.0->openai->pal==0.1)\n",
            "  Downloading pydantic_core-2.33.1-cp313-cp313-macosx_11_0_arm64.whl.metadata (6.8 kB)\n",
            "Collecting typing-inspection>=0.4.0 (from pydantic<3,>=1.9.0->openai->pal==0.1)\n",
            "  Downloading typing_inspection-0.4.0-py3-none-any.whl.metadata (2.6 kB)\n",
            "Using cached openai-1.75.0-py3-none-any.whl (646 kB)\n",
            "Downloading anyio-4.9.0-py3-none-any.whl (100 kB)\n",
            "Using cached distro-1.9.0-py3-none-any.whl (20 kB)\n",
            "Using cached httpx-0.28.1-py3-none-any.whl (73 kB)\n",
            "Downloading httpcore-1.0.8-py3-none-any.whl (78 kB)\n",
            "Downloading jiter-0.9.0-cp313-cp313-macosx_11_0_arm64.whl (318 kB)\n",
            "Downloading pydantic-2.11.3-py3-none-any.whl (443 kB)\n",
            "Downloading pydantic_core-2.33.1-cp313-cp313-macosx_11_0_arm64.whl (1.9 MB)\n",
            "\u001b[2K   \u001b[90m━━━━━━━━━━━━━━━━━━━━━━━━━━━━━━━━━━━━━━━━\u001b[0m \u001b[32m1.9/1.9 MB\u001b[0m \u001b[31m8.5 MB/s\u001b[0m eta \u001b[36m0:00:00\u001b[0m00:01\u001b[0m\n",
            "\u001b[?25hUsing cached sniffio-1.3.1-py3-none-any.whl (10 kB)\n",
            "Using cached tqdm-4.67.1-py3-none-any.whl (78 kB)\n",
            "Using cached typing_extensions-4.13.2-py3-none-any.whl (45 kB)\n",
            "Using cached annotated_types-0.7.0-py3-none-any.whl (13 kB)\n",
            "Using cached idna-3.10-py3-none-any.whl (70 kB)\n",
            "Downloading typing_inspection-0.4.0-py3-none-any.whl (14 kB)\n",
            "Using cached certifi-2025.1.31-py3-none-any.whl (166 kB)\n",
            "Using cached h11-0.14.0-py3-none-any.whl (58 kB)\n",
            "Building wheels for collected packages: pal\n",
            "  Building wheel for pal (pyproject.toml) ... \u001b[?25ldone\n",
            "\u001b[?25h  Created wheel for pal: filename=pal-0.1-py3-none-any.whl size=20220 sha256=a0d8b298302c6acc0d84d628cd492198140493261c29a08d192e8e284063a165\n",
            "  Stored in directory: /private/var/folders/8d/b6tnc2p90l548qg78nc_k0_m0000gn/T/pip-ephem-wheel-cache-sctbsb1t/wheels/fc/96/b9/2d39b0564063a661921e159ff6fdb50d8eb7e8bdd95704e9bf\n",
            "Successfully built pal\n",
            "Installing collected packages: typing-extensions, tqdm, sniffio, jiter, idna, h11, distro, certifi, annotated-types, typing-inspection, pydantic-core, httpcore, anyio, pydantic, httpx, openai, pal\n",
            "Successfully installed annotated-types-0.7.0 anyio-4.9.0 certifi-2025.1.31 distro-1.9.0 h11-0.14.0 httpcore-1.0.8 httpx-0.28.1 idna-3.10 jiter-0.9.0 openai-1.75.0 pal-0.1 pydantic-2.11.3 pydantic-core-2.33.1 sniffio-1.3.1 tqdm-4.67.1 typing-extensions-4.13.2 typing-inspection-0.4.0\n"
          ]
        }
      ],
      "source": [
        "!pip install ./pal"
      ]
    },
    {
      "cell_type": "markdown",
      "metadata": {
        "id": "g4csR6HX7h-B"
      },
      "source": [
        "## Configure Openai API"
      ]
    },
    {
      "cell_type": "code",
      "execution_count": 2,
      "metadata": {
        "id": "Ba0ycacK4i1V"
      },
      "outputs": [],
      "source": [
        "import openai\n",
        "openai.api_key = '' #@param {type:\"string\"}\n",
        "MODEL = 'code-davinci-002' #@param {type:\"string\"}"
      ]
    },
    {
      "cell_type": "code",
      "execution_count": 3,
      "metadata": {
        "id": "H_qTZkXg42V4"
      },
      "outputs": [],
      "source": [
        "import pal\n",
        "from pal.prompt import colored_object_prompt, math_prompts"
      ]
    },
    {
      "cell_type": "markdown",
      "metadata": {
        "id": "12PptLdv5HkK"
      },
      "source": [
        "# GSM-8K"
      ]
    },
    {
      "cell_type": "code",
      "execution_count": null,
      "metadata": {
        "id": "iJ0kqDTC5SG4"
      },
      "outputs": [],
      "source": [
        "interface = pal.interface.ProgramInterface(model=MODEL, get_answer_expr='solution()', verbose=True)"
      ]
    },
    {
      "cell_type": "code",
      "execution_count": null,
      "metadata": {
        "id": "lRK5CwCG5GGE"
      },
      "outputs": [],
      "source": [
        "question = \"Jan has three times the number of pets as Marcia. Marcia has two more pets than Cindy. If Cindy has four pets, how many total pets do the three have?\"#@param {type:\"string\"}\n",
        "prompt = math_prompts.MATH_PROMPT.format(question=question)"
      ]
    },
    {
      "cell_type": "code",
      "execution_count": null,
      "metadata": {
        "colab": {
          "base_uri": "https://localhost:8080/"
        },
        "id": "_kwZ8Cvw50qF",
        "outputId": "bb1f26df-b03d-435c-ad09-7c71dc549850"
      },
      "outputs": [
        {
          "name": "stdout",
          "output_type": "stream",
          "text": [
            "def solution():\n",
            "    \"\"\"Jan has three times the number of pets as Marcia. Marcia has two more pets than Cindy. If Cindy has four pets, how many total pets do the three have?\"\"\"\n",
            "    cindy_pets = 4\n",
            "    marcia_pets = cindy_pets + 2\n",
            "    jan_pets = marcia_pets * 3\n",
            "    total_pets = cindy_pets + marcia_pets + jan_pets\n",
            "    result = total_pets\n",
            "    return result\n",
            "\n",
            "==========================\n",
            "The answer is 28.\n"
          ]
        }
      ],
      "source": [
        "answer = interface.run(prompt, time_out=10)\n",
        "print('\\n==========================')\n",
        "print(f'The answer is {answer}.')"
      ]
    },
    {
      "cell_type": "markdown",
      "metadata": {
        "id": "IWsJ3bYs9JSt"
      },
      "source": [
        "# Reasoning about Colored Objects"
      ]
    },
    {
      "cell_type": "code",
      "execution_count": null,
      "metadata": {
        "id": "fxlCg3z_9Nzx"
      },
      "outputs": [],
      "source": [
        "interface = pal.interface.ProgramInterface(model=MODEL, get_answer_symbol='answer', stop='\\n\\n\\n', verbose=True)"
      ]
    },
    {
      "cell_type": "code",
      "execution_count": null,
      "metadata": {
        "id": "wrRPLMjq9Tif"
      },
      "outputs": [],
      "source": [
        "question = \"On the desk, you see two blue booklets, two purple booklets, and two yellow pairs of sunglasses. If I remove all the pairs of sunglasses from the desk, how many purple items remain on it?\"#@param {type:\"string\"}\n",
        "prompt = colored_object_prompt.COLOR_OBJECT_PROMPT.format(question=question)"
      ]
    },
    {
      "cell_type": "code",
      "execution_count": null,
      "metadata": {
        "colab": {
          "base_uri": "https://localhost:8080/"
        },
        "id": "z_jnBr5p9rPN",
        "outputId": "0120da7b-6ced-4b14-ce87-c453f1dab115"
      },
      "outputs": [
        {
          "name": "stdout",
          "output_type": "stream",
          "text": [
            "# Put objects into a list to record ordering\n",
            "objects = []\n",
            "objects += [('booklet', 'blue')] * 2\n",
            "objects += [('booklet', 'purple')] * 2\n",
            "objects += [('sunglasses', 'yellow')] * 2\n",
            "\n",
            "# Remove all pairs of sunglasses\n",
            "objects = [object for object in objects if object[0] != 'sunglasses']\n",
            "\n",
            "# Count number of purple objects\n",
            "num_purple = len([object for object in objects if object[1] == 'purple'])\n",
            "answer = num_purple\n",
            "\n",
            "==========================\n",
            "The answer is 2.\n"
          ]
        }
      ],
      "source": [
        "answer = interface.run(prompt, time_out=10)\n",
        "print('\\n==========================')\n",
        "print(f'The answer is {answer}.')"
      ]
    }
  ],
  "metadata": {
    "colab": {
      "provenance": []
    },
    "kernelspec": {
      "display_name": ".venv",
      "language": "python",
      "name": "python3"
    },
    "language_info": {
      "codemirror_mode": {
        "name": "ipython",
        "version": 3
      },
      "file_extension": ".py",
      "mimetype": "text/x-python",
      "name": "python",
      "nbconvert_exporter": "python",
      "pygments_lexer": "ipython3",
      "version": "3.13.1"
    }
  },
  "nbformat": 4,
  "nbformat_minor": 0
}
