{
  "cells": [
    {
      "cell_type": "markdown",
      "metadata": {
        "id": "_ggaEho07q6t"
      },
      "source": [
        "# Setup"
      ]
    },
    {
      "cell_type": "markdown",
      "metadata": {
        "id": "UHMPV13h7uwP"
      },
      "source": [
        "## Install Dependencies"
      ]
    },
    {
      "cell_type": "code",
      "execution_count": null,
      "metadata": {
        "id": "WRXYASy-3lDZ"
      },
      "outputs": [],
      "source": [
        "!pip install ./pal"
      ]
    },
    {
      "cell_type": "markdown",
      "metadata": {
        "id": "g4csR6HX7h-B"
      },
      "source": [
        "## Configure Openai API"
      ]
    },
    {
      "cell_type": "code",
      "execution_count": null,
      "metadata": {
        "id": "Ba0ycacK4i1V"
      },
      "outputs": [],
      "source": [
        "import openai\n",
        "openai.api_key = '' #@param {type:\"string\"}\n",
        "MODEL = 'code-davinci-002' #@param {type:\"string\"}"
      ]
    },
    {
      "cell_type": "code",
      "execution_count": null,
      "metadata": {
        "id": "H_qTZkXg42V4"
      },
      "outputs": [],
      "source": [
        "import pal\n",
        "from pal.prompt import colored_object_prompt, math_prompts, tracking_objects_prompt, web_of_lies_prompt"
      ]
    },
    {
      "cell_type": "markdown",
      "metadata": {
        "id": "12PptLdv5HkK"
      },
      "source": [
        "# GSM-8K"
      ]
    },
    {
      "cell_type": "code",
      "execution_count": null,
      "metadata": {
        "id": "iJ0kqDTC5SG4"
      },
      "outputs": [],
      "source": [
        "interface = pal.interface.ProgramInterface(model=MODEL, get_answer_expr='solution()', verbose=True)"
      ]
    },
    {
      "cell_type": "code",
      "execution_count": null,
      "metadata": {
        "id": "lRK5CwCG5GGE"
      },
      "outputs": [],
      "source": [
        "question = \"Jan has three times the number of pets as Marcia. Marcia has two more pets than Cindy. If Cindy has four pets, how many total pets do the three have?\"#@param {type:\"string\"}\n",
        "prompt = math_prompts.MATH_PROMPT.format(question=question)"
      ]
    },
    {
      "cell_type": "code",
      "execution_count": null,
      "metadata": {
        "colab": {
          "base_uri": "https://localhost:8080/"
        },
        "id": "_kwZ8Cvw50qF",
        "outputId": "bb1f26df-b03d-435c-ad09-7c71dc549850"
      },
      "outputs": [],
      "source": [
        "answer = interface.run(prompt, time_out=10)\n",
        "print('\\n==========================')\n",
        "print(f'The answer is {answer}.')"
      ]
    },
    {
      "cell_type": "markdown",
      "metadata": {
        "id": "IWsJ3bYs9JSt"
      },
      "source": [
        "# Reasoning about Colored Objects"
      ]
    },
    {
      "cell_type": "code",
      "execution_count": null,
      "metadata": {
        "id": "fxlCg3z_9Nzx"
      },
      "outputs": [],
      "source": [
        "interface = pal.interface.ProgramInterface(model=MODEL, get_answer_symbol='answer', stop='\\n\\n\\n', verbose=True)"
      ]
    },
    {
      "cell_type": "code",
      "execution_count": null,
      "metadata": {
        "id": "wrRPLMjq9Tif"
      },
      "outputs": [],
      "source": [
        "question = \"On the desk, you see two blue booklets, two purple booklets, and two yellow pairs of sunglasses. If I remove all the pairs of sunglasses from the desk, how many purple items remain on it?\"#@param {type:\"string\"}\n",
        "prompt = colored_object_prompt.COLOR_OBJECT_PROMPT.format(question=question)\n",
        "print(prompt)"
      ]
    },
    {
      "cell_type": "code",
      "execution_count": null,
      "metadata": {
        "colab": {
          "base_uri": "https://localhost:8080/"
        },
        "id": "z_jnBr5p9rPN",
        "outputId": "0120da7b-6ced-4b14-ce87-c453f1dab115"
      },
      "outputs": [],
      "source": [
        "answer = interface.run(prompt, time_out=10)\n",
        "print('\\n==========================')\n",
        "print(f'The answer is {answer}.')"
      ]
    },
    {
      "cell_type": "markdown",
      "metadata": {},
      "source": [
        "# Tracking Objects"
      ]
    },
    {
      "cell_type": "code",
      "execution_count": null,
      "metadata": {},
      "outputs": [],
      "source": [
        "interface = pal.interface.ProgramInterface(\n",
        "    model=MODEL, get_answer_symbol=\"answer\", stop=\"\\n\\n\\n\", verbose=True\n",
        ")"
      ]
    },
    {
      "cell_type": "code",
      "execution_count": null,
      "metadata": {},
      "outputs": [],
      "source": [
        "question = \"test\"\n",
        "prompt = tracking_objects_prompt.TRACKING_OBJECTS_PROMPT.format(question=question)\n",
        "print(prompt)"
      ]
    },
    {
      "cell_type": "code",
      "execution_count": null,
      "metadata": {},
      "outputs": [],
      "source": [
        "answer = interface.run(prompt, time_out=10)\n",
        "print(\"\\n==========================\")\n",
        "print(f\"The answer is {answer}.\")"
      ]
    },
    {
      "cell_type": "markdown",
      "metadata": {},
      "source": [
        "# Web Of Lies"
      ]
    },
    {
      "cell_type": "code",
      "execution_count": null,
      "metadata": {},
      "outputs": [],
      "source": [
        "interface = pal.interface.ProgramInterface(\n",
        "    model=MODEL, get_answer_symbol=\"answer\", stop=\"\\n\\n\\n\", verbose=True\n",
        ")"
      ]
    },
    {
      "cell_type": "code",
      "execution_count": null,
      "metadata": {},
      "outputs": [],
      "source": [
        "question = \"\"  # @param {type:\"string\"}\n",
        "prompt = web_of_lies_prompt.WEB_OF_LIES_PROMPT.format(question=question)"
      ]
    },
    {
      "cell_type": "code",
      "execution_count": null,
      "metadata": {},
      "outputs": [],
      "source": [
        "answer = interface.run(prompt, time_out=10)\n",
        "print(\"\\n==========================\")\n",
        "print(f\"The answer is {answer}.\")"
      ]
    },
    {
      "cell_type": "code",
      "execution_count": null,
      "metadata": {},
      "outputs": [],
      "source": []
    }
  ],
  "metadata": {
    "colab": {
      "provenance": []
    },
    "kernelspec": {
      "display_name": ".venv",
      "language": "python",
      "name": "python3"
    },
    "language_info": {
      "codemirror_mode": {
        "name": "ipython",
        "version": 3
      },
      "file_extension": ".py",
      "mimetype": "text/x-python",
      "name": "python",
      "nbconvert_exporter": "python",
      "pygments_lexer": "ipython3",
      "version": "3.13.1"
    }
  },
  "nbformat": 4,
  "nbformat_minor": 0
}
