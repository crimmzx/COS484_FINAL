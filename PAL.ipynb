{
  "cells": [
    {
      "cell_type": "markdown",
      "metadata": {
        "id": "_ggaEho07q6t"
      },
      "source": [
        "# Setup"
      ]
    },
    {
      "cell_type": "markdown",
      "metadata": {
        "id": "UHMPV13h7uwP"
      },
      "source": [
        "## Install Dependencies"
      ]
    },
    {
      "cell_type": "code",
      "execution_count": 7,
      "metadata": {
        "id": "WRXYASy-3lDZ"
      },
      "outputs": [
        {
          "name": "stdout",
          "output_type": "stream",
          "text": [
            "Processing ./pal\n",
            "  Installing build dependencies ... \u001b[?25ldone\n",
            "\u001b[?25h  Getting requirements to build wheel ... \u001b[?25ldone\n",
            "\u001b[?25h  Preparing metadata (pyproject.toml) ... \u001b[?25ldone\n",
            "\u001b[?25hRequirement already satisfied: openai in ./.venv/lib/python3.13/site-packages (from pal==0.1) (1.76.2)\n",
            "Requirement already satisfied: python-dateutil in ./.venv/lib/python3.13/site-packages (from pal==0.1) (2.9.0.post0)\n",
            "Requirement already satisfied: anyio<5,>=3.5.0 in ./.venv/lib/python3.13/site-packages (from openai->pal==0.1) (4.9.0)\n",
            "Requirement already satisfied: distro<2,>=1.7.0 in ./.venv/lib/python3.13/site-packages (from openai->pal==0.1) (1.9.0)\n",
            "Requirement already satisfied: httpx<1,>=0.23.0 in ./.venv/lib/python3.13/site-packages (from openai->pal==0.1) (0.28.1)\n",
            "Requirement already satisfied: jiter<1,>=0.4.0 in ./.venv/lib/python3.13/site-packages (from openai->pal==0.1) (0.9.0)\n",
            "Requirement already satisfied: pydantic<3,>=1.9.0 in ./.venv/lib/python3.13/site-packages (from openai->pal==0.1) (2.11.3)\n",
            "Requirement already satisfied: sniffio in ./.venv/lib/python3.13/site-packages (from openai->pal==0.1) (1.3.1)\n",
            "Requirement already satisfied: tqdm>4 in ./.venv/lib/python3.13/site-packages (from openai->pal==0.1) (4.67.1)\n",
            "Requirement already satisfied: typing-extensions<5,>=4.11 in ./.venv/lib/python3.13/site-packages (from openai->pal==0.1) (4.13.2)\n",
            "Requirement already satisfied: idna>=2.8 in ./.venv/lib/python3.13/site-packages (from anyio<5,>=3.5.0->openai->pal==0.1) (3.10)\n",
            "Requirement already satisfied: certifi in ./.venv/lib/python3.13/site-packages (from httpx<1,>=0.23.0->openai->pal==0.1) (2025.1.31)\n",
            "Requirement already satisfied: httpcore==1.* in ./.venv/lib/python3.13/site-packages (from httpx<1,>=0.23.0->openai->pal==0.1) (1.0.8)\n",
            "Requirement already satisfied: h11<0.15,>=0.13 in ./.venv/lib/python3.13/site-packages (from httpcore==1.*->httpx<1,>=0.23.0->openai->pal==0.1) (0.14.0)\n",
            "Requirement already satisfied: annotated-types>=0.6.0 in ./.venv/lib/python3.13/site-packages (from pydantic<3,>=1.9.0->openai->pal==0.1) (0.7.0)\n",
            "Requirement already satisfied: pydantic-core==2.33.1 in ./.venv/lib/python3.13/site-packages (from pydantic<3,>=1.9.0->openai->pal==0.1) (2.33.1)\n",
            "Requirement already satisfied: typing-inspection>=0.4.0 in ./.venv/lib/python3.13/site-packages (from pydantic<3,>=1.9.0->openai->pal==0.1) (0.4.0)\n",
            "Requirement already satisfied: six>=1.5 in ./.venv/lib/python3.13/site-packages (from python-dateutil->pal==0.1) (1.17.0)\n",
            "Building wheels for collected packages: pal\n",
            "  Building wheel for pal (pyproject.toml) ... \u001b[?25ldone\n",
            "\u001b[?25h  Created wheel for pal: filename=pal-0.1-py3-none-any.whl size=20232 sha256=c487d5a85783ad0563cee3ad3a06a638e7dbd90c7dc59032a151b57fea918c30\n",
            "  Stored in directory: /private/var/folders/8d/b6tnc2p90l548qg78nc_k0_m0000gn/T/pip-ephem-wheel-cache-h4d693h4/wheels/fc/96/b9/2d39b0564063a661921e159ff6fdb50d8eb7e8bdd95704e9bf\n",
            "Successfully built pal\n",
            "Installing collected packages: pal\n",
            "  Attempting uninstall: pal\n",
            "    Found existing installation: pal 0.1\n",
            "    Uninstalling pal-0.1:\n",
            "      Successfully uninstalled pal-0.1\n",
            "Successfully installed pal-0.1\n"
          ]
        }
      ],
      "source": [
        "!pip3 install ./pal"
      ]
    },
    {
      "cell_type": "markdown",
      "metadata": {
        "id": "g4csR6HX7h-B"
      },
      "source": [
        "## Configure Openai API"
      ]
    },
    {
      "cell_type": "code",
      "execution_count": 8,
      "metadata": {
        "id": "Ba0ycacK4i1V"
      },
      "outputs": [],
      "source": [
        "import openai\n",
        "from dotenv import load_dotenv\n",
        "import os\n",
        "load_dotenv()\n",
        "openai.api_key = os.getenv(\"OPENAI_API_KEY\")\n",
        "# openai.api_key = '' #@param {type:\"string\"}\n",
        "MODEL = \"gpt-4\"  # @param {type:\"string\"}"
      ]
    },
    {
      "cell_type": "code",
      "execution_count": 9,
      "metadata": {
        "id": "H_qTZkXg42V4"
      },
      "outputs": [],
      "source": [
        "import pal\n",
        "from pal.prompt import colored_object_prompt, math_prompts, tracking_objects_prompt"
      ]
    },
    {
      "cell_type": "markdown",
      "metadata": {
        "id": "12PptLdv5HkK"
      },
      "source": [
        "# GSM-8K"
      ]
    },
    {
      "cell_type": "code",
      "execution_count": 10,
      "metadata": {
        "id": "iJ0kqDTC5SG4"
      },
      "outputs": [],
      "source": [
        "interface = pal.interface.ProgramInterface(model=MODEL, get_answer_expr='solution()', verbose=True)"
      ]
    },
    {
      "cell_type": "code",
      "execution_count": 11,
      "metadata": {
        "id": "lRK5CwCG5GGE"
      },
      "outputs": [
        {
          "name": "stdout",
          "output_type": "stream",
          "text": [
            "Q: Olivia has $23. She bought five bagels for $3 each. How much money does she have left?\n",
            "\n",
            "# solution in Python:\n",
            "\n",
            "\n",
            "def solution():\n",
            "    \"\"\"Olivia has $23. She bought five bagels for $3 each. How much money does she have left?\"\"\"\n",
            "    money_initial = 23\n",
            "    bagels = 5\n",
            "    bagel_cost = 3\n",
            "    money_spent = bagels * bagel_cost\n",
            "    money_left = money_initial - money_spent\n",
            "    result = money_left\n",
            "    return result\n",
            "\n",
            "\n",
            "\n",
            "\n",
            "\n",
            "Q: Michael had 58 golf balls. On tuesday, he lost 23 golf balls. On wednesday, he lost 2 more. How many golf balls did he have at the end of wednesday?\n",
            "\n",
            "# solution in Python:\n",
            "\n",
            "\n",
            "def solution():\n",
            "    \"\"\"Michael had 58 golf balls. On tuesday, he lost 23 golf balls. On wednesday, he lost 2 more. How many golf balls did he have at the end of wednesday?\"\"\"\n",
            "    golf_balls_initial = 58\n",
            "    golf_balls_lost_tuesday = 23\n",
            "    golf_balls_lost_wednesday = 2\n",
            "    golf_balls_left = golf_balls_initial - golf_balls_lost_tuesday - golf_balls_lost_wednesday\n",
            "    result = golf_balls_left\n",
            "    return result\n",
            "\n",
            "\n",
            "\n",
            "\n",
            "\n",
            "Q: There were nine computers in the server room. Five more computers were installed each day, from monday to thursday. How many computers are now in the server room?\n",
            "\n",
            "# solution in Python:\n",
            "\n",
            "\n",
            "def solution():\n",
            "    \"\"\"There were nine computers in the server room. Five more computers were installed each day, from monday to thursday. How many computers are now in the server room?\"\"\"\n",
            "    computers_initial = 9\n",
            "    computers_per_day = 5\n",
            "    num_days = 4  # 4 days between monday and thursday\n",
            "    computers_added = computers_per_day * num_days\n",
            "    computers_total = computers_initial + computers_added\n",
            "    result = computers_total\n",
            "    return result\n",
            "\n",
            "\n",
            "\n",
            "\n",
            "\n",
            "Q: Shawn has five toys. For Christmas, he got two toys each from his mom and dad. How many toys does he have now?\n",
            "\n",
            "# solution in Python:\n",
            "\n",
            "\n",
            "def solution():\n",
            "    \"\"\"Shawn has five toys. For Christmas, he got two toys each from his mom and dad. How many toys does he have now?\"\"\"\n",
            "    toys_initial = 5\n",
            "    mom_toys = 2\n",
            "    dad_toys = 2\n",
            "    total_received = mom_toys + dad_toys\n",
            "    total_toys = toys_initial + total_received\n",
            "    result = total_toys\n",
            "    return result\n",
            "\n",
            "\n",
            "\n",
            "\n",
            "\n",
            "Q: Jason had 20 lollipops. He gave Denny some lollipops. Now Jason has 12 lollipops. How many lollipops did Jason give to Denny?\n",
            "\n",
            "# solution in Python:\n",
            "\n",
            "\n",
            "def solution():\n",
            "    \"\"\"Jason had 20 lollipops. He gave Denny some lollipops. Now Jason has 12 lollipops. How many lollipops did Jason give to Denny?\"\"\"\n",
            "    jason_lollipops_initial = 20\n",
            "    jason_lollipops_after = 12\n",
            "    denny_lollipops = jason_lollipops_initial - jason_lollipops_after\n",
            "    result = denny_lollipops\n",
            "    return result\n",
            "\n",
            "\n",
            "\n",
            "\n",
            "\n",
            "Q: Leah had 32 chocolates and her sister had 42. If they ate 35, how many pieces do they have left in total?\n",
            "\n",
            "# solution in Python:\n",
            "\n",
            "\n",
            "def solution():\n",
            "    \"\"\"Leah had 32 chocolates and her sister had 42. If they ate 35, how many pieces do they have left in total?\"\"\"\n",
            "    leah_chocolates = 32\n",
            "    sister_chocolates = 42\n",
            "    total_chocolates = leah_chocolates + sister_chocolates\n",
            "    chocolates_eaten = 35\n",
            "    chocolates_left = total_chocolates - chocolates_eaten\n",
            "    result = chocolates_left\n",
            "    return result\n",
            "\n",
            "\n",
            "\n",
            "\n",
            "\n",
            "Q: If there are 3 cars in the parking lot and 2 more cars arrive, how many cars are in the parking lot?\n",
            "\n",
            "# solution in Python:\n",
            "\n",
            "\n",
            "def solution():\n",
            "    \"\"\"If there are 3 cars in the parking lot and 2 more cars arrive, how many cars are in the parking lot?\"\"\"\n",
            "    cars_initial = 3\n",
            "    cars_arrived = 2\n",
            "    total_cars = cars_initial + cars_arrived\n",
            "    result = total_cars\n",
            "    return result\n",
            "\n",
            "\n",
            "\n",
            "\n",
            "\n",
            "Q: There are 15 trees in the grove. Grove workers will plant trees in the grove today. After they are done, there will be 21 trees. How many trees did the grove workers plant today?\n",
            "\n",
            "# solution in Python:\n",
            "\n",
            "\n",
            "def solution():\n",
            "    \"\"\"There are 15 trees in the grove. Grove workers will plant trees in the grove today. After they are done, there will be 21 trees. How many trees did the grove workers plant today?\"\"\"\n",
            "    trees_initial = 15\n",
            "    trees_after = 21\n",
            "    trees_added = trees_after - trees_initial\n",
            "    result = trees_added\n",
            "    return result\n",
            "\n",
            "\n",
            "\n",
            "\n",
            "\n",
            "Q: Jan has three times the number of pets as Marcia. Marcia has two more pets than Cindy. If Cindy has four pets, how many total pets do the three have?\n",
            "\n",
            "# solution in Python:\n",
            "\n",
            "\n",
            "\n"
          ]
        }
      ],
      "source": [
        "question = \"Jan has three times the number of pets as Marcia. Marcia has two more pets than Cindy. If Cindy has four pets, how many total pets do the three have?\"#@param {type:\"string\"}\n",
        "prompt = math_prompts.MATH_PROMPT.format(question=question)\n",
        "print(prompt)"
      ]
    },
    {
      "cell_type": "code",
      "execution_count": null,
      "metadata": {
        "colab": {
          "base_uri": "https://localhost:8080/"
        },
        "id": "_kwZ8Cvw50qF",
        "outputId": "bb1f26df-b03d-435c-ad09-7c71dc549850"
      },
      "outputs": [],
      "source": [
        "answer = interface.run(prompt, time_out=10)\n",
        "print('\\n==========================')\n",
        "print(f'The answer is {answer}.')"
      ]
    },
    {
      "cell_type": "markdown",
      "metadata": {
        "id": "IWsJ3bYs9JSt"
      },
      "source": [
        "# Reasoning about Colored Objects"
      ]
    },
    {
      "cell_type": "code",
      "execution_count": 12,
      "metadata": {
        "id": "fxlCg3z_9Nzx"
      },
      "outputs": [],
      "source": [
        "interface = pal.interface.ProgramInterface(model=MODEL, get_answer_symbol='answer', stop='\\n\\n\\n', verbose=True)"
      ]
    },
    {
      "cell_type": "code",
      "execution_count": 13,
      "metadata": {
        "id": "wrRPLMjq9Tif"
      },
      "outputs": [
        {
          "name": "stdout",
          "output_type": "stream",
          "text": [
            "# Generate Python3 Code to solve problems\n",
            "# Q: On the nightstand, there is a red pencil, a purple mug, a burgundy keychain, a fuchsia teddy bear, a black plate, and a blue stress ball. What color is the stress ball?\n",
            "# Put objects into a dictionary for quick look up\n",
            "objects = dict()\n",
            "objects['pencil'] = 'red'\n",
            "objects['mug'] = 'purple'\n",
            "objects['keychain'] = 'burgundy'\n",
            "objects['teddy bear'] = 'fuchsia'\n",
            "objects['plate'] = 'black'\n",
            "objects['stress ball'] = 'blue'\n",
            "\n",
            "# Look up the color of stress ball\n",
            "stress_ball_color = objects['stress ball']\n",
            "answer = stress_ball_color\n",
            "\n",
            "\n",
            "# Q: On the table, you see a bunch of objects arranged in a row: a purple paperclip, a pink stress ball, a brown keychain, a green scrunchiephone charger, a mauve fidget spinner, and a burgundy pen. What is the color of the object directly to the right of the stress ball?\n",
            "# Put objects into a list to record ordering\n",
            "objects = []\n",
            "objects += [('paperclip', 'purple')] * 1\n",
            "objects += [('stress ball', 'pink')] * 1\n",
            "objects += [('keychain', 'brown')] * 1\n",
            "objects += [('scrunchiephone charger', 'green')] * 1\n",
            "objects += [('fidget spinner', 'mauve')] * 1\n",
            "objects += [('pen', 'burgundy')] * 1\n",
            "\n",
            "# Find the index of the stress ball\n",
            "stress_ball_idx = None\n",
            "for i, object in enumerate(objects):\n",
            "    if object[0] == 'stress ball':\n",
            "        stress_ball_idx = i\n",
            "        break\n",
            "\n",
            "# Find the directly right object\n",
            "direct_right = objects[i+1]\n",
            "\n",
            "# Check the directly right object's color\n",
            "direct_right_color = direct_right[1]\n",
            "answer = direct_right_color\n",
            "\n",
            "\n",
            "# Q: On the nightstand, you see the following items arranged in a row: a teal plate, a burgundy keychain, a yellow scrunchiephone charger, an orange mug, a pink notebook, and a grey cup. How many non-orange items do you see to the left of the teal item?\n",
            "# Put objects into a list to record ordering\n",
            "objects = []\n",
            "objects += [('plate', 'teal')] * 1\n",
            "objects += [('keychain', 'burgundy')] * 1\n",
            "objects += [('scrunchiephone charger', 'yellow')] * 1\n",
            "objects += [('mug', 'orange')] * 1\n",
            "objects += [('notebook', 'pink')] * 1\n",
            "objects += [('cup', 'grey')] * 1\n",
            "\n",
            "# Find the index of the teal item\n",
            "teal_idx = None\n",
            "for i, object in enumerate(objects):\n",
            "    if object[1] == 'teal':\n",
            "        teal_idx = i\n",
            "        break\n",
            "\n",
            "# Find non-orange items to the left of the teal item\n",
            "non_orange = [object for object in objects[:i] if object[1] != 'orange']\n",
            "\n",
            "# Count number of non-orange objects\n",
            "num_non_orange = len(non_orange)\n",
            "answer = num_non_orange\n",
            "\n",
            "\n",
            "# Q: On the desk, you see two blue booklets, two purple booklets, and two yellow pairs of sunglasses. If I remove all the pairs of sunglasses from the desk, how many purple items remain on it?\n",
            "\n"
          ]
        }
      ],
      "source": [
        "question = \"On the desk, you see two blue booklets, two purple booklets, and two yellow pairs of sunglasses. If I remove all the pairs of sunglasses from the desk, how many purple items remain on it?\"#@param {type:\"string\"}\n",
        "prompt = colored_object_prompt.COLOR_OBJECT_PROMPT.format(question=question)\n",
        "print(prompt)"
      ]
    },
    {
      "cell_type": "code",
      "execution_count": 14,
      "metadata": {
        "colab": {
          "base_uri": "https://localhost:8080/"
        },
        "id": "z_jnBr5p9rPN",
        "outputId": "0120da7b-6ced-4b14-ce87-c453f1dab115"
      },
      "outputs": [
        {
          "name": "stdout",
          "output_type": "stream",
          "text": [
            "[Choice(finish_reason='stop', index=0, logprobs=None, message=ChatCompletionMessage(content=\"# Put objects into a list\\nobjects = []\\nobjects += [('booklet', 'blue')] * 2\\nobjects += [('booklet', 'purple')] * 2\\nobjects += [('sunglasses', 'yellow')] * 2\\n\\n# Remove all pairs of sunglasses\\nobjects = [object for object in objects if object[0] != 'sunglasses']\\n\\n# Count the number of purple items\\nnum_purple = sum(1 for object in objects if object[1] == 'purple')\\nanswer = num_purple\", refusal=None, role='assistant', annotations=[], audio=None, function_call=None, tool_calls=None))]\n",
            "[\"# Put objects into a list\\nobjects = []\\nobjects += [('booklet', 'blue')] * 2\\nobjects += [('booklet', 'purple')] * 2\\nobjects += [('sunglasses', 'yellow')] * 2\\n\\n# Remove all pairs of sunglasses\\nobjects = [object for object in objects if object[0] != 'sunglasses']\\n\\n# Count the number of purple items\\nnum_purple = sum(1 for object in objects if object[1] == 'purple')\\nanswer = num_purple\"]\n",
            "\n",
            "==========================\n",
            "The answer is 2.\n"
          ]
        }
      ],
      "source": [
        "answer = interface.run(prompt, time_out=10)\n",
        "print('\\n==========================')\n",
        "print(f'The answer is {answer}.')"
      ]
    },
    {
      "cell_type": "markdown",
      "metadata": {},
      "source": [
        "# Tracking Shuffled Objects (3)"
      ]
    },
    {
      "cell_type": "code",
      "execution_count": null,
      "metadata": {},
      "outputs": [],
      "source": [
        "interface = pal.interface.ProgramInterface(model=MODEL, get_answer_symbol='answer', stop='\\n\\n\\n', verbose=True)"
      ]
    },
    {
      "cell_type": "code",
      "execution_count": null,
      "metadata": {},
      "outputs": [],
      "source": [

        "question = \"test\"\n",
        "prompt = tracking_objects_prompt.TRACKING_OBJECTS_PROMPT.format(question=question)\n",
        "print(prompt)"

        "question = \"Alice, Bob, and Claire are playing a game. At the start of the game, they are each holding a ball: Alice has a yellow ball, Bob has a blue ball, and Claire has a pink ball. As the game progresses, pairs of players trade balls. First, Claire and Alice swap balls. Then, Alice and Bob swap balls. Finally, Claire and Bob swap balls. At the end of the game, Bob has the Options: (A) yellow ball (B) blue ball (C) pink ball\"#@param {type:\"string\"}\n",
        "prompt = tracking_objects_prompt.TRACKING_OBJECTS_PROMPT.format(question=question)"

      ]
    },
    {
      "cell_type": "code",
      "execution_count": null,
      "metadata": {},
      "outputs": [],
      "source": [
        "answer = interface.run(prompt, time_out=10)\n",
        "print('\\n==========================')\n",
        "print(f'The answer is {answer}.')"
      ]
    },
    {
      "cell_type": "code",
      "execution_count": null,
      "metadata": {},
      "outputs": [],
      "source": []
    }
  ],
  "metadata": {
    "colab": {
      "provenance": []
    },
    "kernelspec": {
      "display_name": "Python 3",
      "language": "python",
      "name": "python3"
    },
    "language_info": {
      "codemirror_mode": {
        "name": "ipython",
        "version": 3
      },
      "file_extension": ".py",
      "mimetype": "text/x-python",
      "name": "python",
      "nbconvert_exporter": "python",
      "pygments_lexer": "ipython3",
      "version": "3.9.6"
    }
  },
  "nbformat": 4,
  "nbformat_minor": 0
}
