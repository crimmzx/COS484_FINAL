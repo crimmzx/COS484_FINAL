{
  "cells": [
    {
      "cell_type": "markdown",
      "metadata": {
        "id": "_ggaEho07q6t"
      },
      "source": [
        "# Setup"
      ]
    },
    {
      "cell_type": "markdown",
      "metadata": {
        "id": "UHMPV13h7uwP"
      },
      "source": [
        "## Install Dependencies"
      ]
    },
    {
      "cell_type": "code",
      "execution_count": 23,
      "metadata": {
        "id": "WRXYASy-3lDZ"
      },
      "outputs": [
        {
          "name": "stdout",
          "output_type": "stream",
          "text": [
            "Processing ./pal\n",
            "  Installing build dependencies ... \u001b[?25ldone\n",
            "\u001b[?25h  Getting requirements to build wheel ... \u001b[?25ldone\n",
            "\u001b[?25h  Preparing metadata (pyproject.toml) ... \u001b[?25ldone\n",
            "\u001b[?25hRequirement already satisfied: openai in ./.venv/lib/python3.13/site-packages (from pal==0.1) (1.76.2)\n",
            "Requirement already satisfied: python-dateutil in ./.venv/lib/python3.13/site-packages (from pal==0.1) (2.9.0.post0)\n",
            "Requirement already satisfied: anyio<5,>=3.5.0 in ./.venv/lib/python3.13/site-packages (from openai->pal==0.1) (4.9.0)\n",
            "Requirement already satisfied: distro<2,>=1.7.0 in ./.venv/lib/python3.13/site-packages (from openai->pal==0.1) (1.9.0)\n",
            "Requirement already satisfied: httpx<1,>=0.23.0 in ./.venv/lib/python3.13/site-packages (from openai->pal==0.1) (0.28.1)\n",
            "Requirement already satisfied: jiter<1,>=0.4.0 in ./.venv/lib/python3.13/site-packages (from openai->pal==0.1) (0.9.0)\n",
            "Requirement already satisfied: pydantic<3,>=1.9.0 in ./.venv/lib/python3.13/site-packages (from openai->pal==0.1) (2.11.3)\n",
            "Requirement already satisfied: sniffio in ./.venv/lib/python3.13/site-packages (from openai->pal==0.1) (1.3.1)\n",
            "Requirement already satisfied: tqdm>4 in ./.venv/lib/python3.13/site-packages (from openai->pal==0.1) (4.67.1)\n",
            "Requirement already satisfied: typing-extensions<5,>=4.11 in ./.venv/lib/python3.13/site-packages (from openai->pal==0.1) (4.13.2)\n",
            "Requirement already satisfied: idna>=2.8 in ./.venv/lib/python3.13/site-packages (from anyio<5,>=3.5.0->openai->pal==0.1) (3.10)\n",
            "Requirement already satisfied: certifi in ./.venv/lib/python3.13/site-packages (from httpx<1,>=0.23.0->openai->pal==0.1) (2025.1.31)\n",
            "Requirement already satisfied: httpcore==1.* in ./.venv/lib/python3.13/site-packages (from httpx<1,>=0.23.0->openai->pal==0.1) (1.0.8)\n",
            "Requirement already satisfied: h11<0.15,>=0.13 in ./.venv/lib/python3.13/site-packages (from httpcore==1.*->httpx<1,>=0.23.0->openai->pal==0.1) (0.14.0)\n",
            "Requirement already satisfied: annotated-types>=0.6.0 in ./.venv/lib/python3.13/site-packages (from pydantic<3,>=1.9.0->openai->pal==0.1) (0.7.0)\n",
            "Requirement already satisfied: pydantic-core==2.33.1 in ./.venv/lib/python3.13/site-packages (from pydantic<3,>=1.9.0->openai->pal==0.1) (2.33.1)\n",
            "Requirement already satisfied: typing-inspection>=0.4.0 in ./.venv/lib/python3.13/site-packages (from pydantic<3,>=1.9.0->openai->pal==0.1) (0.4.0)\n",
            "Requirement already satisfied: six>=1.5 in ./.venv/lib/python3.13/site-packages (from python-dateutil->pal==0.1) (1.17.0)\n",
            "Building wheels for collected packages: pal\n",
            "  Building wheel for pal (pyproject.toml) ... \u001b[?25ldone\n",
            "\u001b[?25h  Created wheel for pal: filename=pal-0.1-py3-none-any.whl size=21986 sha256=5c075c075cd9122be4f8a4fbabee9b585016a4b8ef68fb7dba4072cb9dff5592\n",
            "  Stored in directory: /private/var/folders/8d/b6tnc2p90l548qg78nc_k0_m0000gn/T/pip-ephem-wheel-cache-n25np6iq/wheels/fc/96/b9/2d39b0564063a661921e159ff6fdb50d8eb7e8bdd95704e9bf\n",
            "Successfully built pal\n",
            "Installing collected packages: pal\n",
            "  Attempting uninstall: pal\n",
            "    Found existing installation: pal 0.1\n",
            "    Uninstalling pal-0.1:\n",
            "      Successfully uninstalled pal-0.1\n",
            "Successfully installed pal-0.1\n"
          ]
        }
      ],
      "source": [
        "!pip3 install ./pal"
      ]
    },
    {
      "cell_type": "markdown",
      "metadata": {
        "id": "g4csR6HX7h-B"
      },
      "source": [
        "## Configure Openai API"
      ]
    },
    {
      "cell_type": "code",
      "execution_count": 26,
      "metadata": {
        "id": "Ba0ycacK4i1V"
      },
      "outputs": [],
      "source": [
        "import openai\n",
        "import os\n",
        "from dotenv import load_dotenv\n",
        "load_dotenv()\n",
        " #@param {type:\"string\"}\n",
        "openai.api_key = os.getenv('OPENAI_API_KEY')\n",
        "MODEL = 'gpt-4' #@param {type:\"string\"}"
      ]
    },
    {
      "cell_type": "code",
      "execution_count": 27,
      "metadata": {
        "id": "H_qTZkXg42V4"
      },
      "outputs": [],
      "source": [
        "import pal\n",
        "from pal.prompt import colored_object_prompt, math_prompts, tracking_objects_prompt"
      ]
    },
    {
      "cell_type": "markdown",
      "metadata": {
        "id": "12PptLdv5HkK"
      },
      "source": [
        "# GSM-8K"
      ]
    },
    {
      "cell_type": "code",
      "execution_count": 28,
      "metadata": {
        "id": "iJ0kqDTC5SG4"
      },
      "outputs": [],
      "source": [
        "interface = pal.interface.ProgramInterface(model=MODEL, get_answer_expr='solution()', verbose=True)"
      ]
    },
    {
      "cell_type": "code",
      "execution_count": 29,
      "metadata": {
        "id": "lRK5CwCG5GGE"
      },
      "outputs": [],
      "source": [
        "question = \"Jan has three times the number of pets as Marcia. Marcia has two more pets than Cindy. If Cindy has four pets, how many total pets do the three have?\"#@param {type:\"string\"}\n",
        "prompt = math_prompts.MATH_PROMPT.format(question=question)"
      ]
    },
    {
      "cell_type": "markdown",
      "metadata": {},
      "source": []
    },
    {
      "cell_type": "code",
      "execution_count": 30,
      "metadata": {
        "colab": {
          "base_uri": "https://localhost:8080/"
        },
        "id": "_kwZ8Cvw50qF",
        "outputId": "bb1f26df-b03d-435c-ad09-7c71dc549850"
      },
      "outputs": [
        {
          "name": "stdout",
          "output_type": "stream",
          "text": [
            "[Choice(finish_reason='stop', index=0, logprobs=None, message=ChatCompletionMessage(content='def solution():\\n    \"\"\"Jan has three times the number of pets as Marcia. Marcia has two more pets than Cindy. If Cindy has four pets, how many total pets do the three have?\"\"\"\\n    cindy_pets = 4\\n    marcia_pets = cindy_pets + 2\\n    jan_pets = marcia_pets * 3\\n    total_pets = cindy_pets + marcia_pets + jan_pets\\n    result = total_pets\\n    return result', refusal=None, role='assistant', annotations=[], audio=None, function_call=None, tool_calls=None))]\n",
            "['def solution():\\n    \"\"\"Jan has three times the number of pets as Marcia. Marcia has two more pets than Cindy. If Cindy has four pets, how many total pets do the three have?\"\"\"\\n    cindy_pets = 4\\n    marcia_pets = cindy_pets + 2\\n    jan_pets = marcia_pets * 3\\n    total_pets = cindy_pets + marcia_pets + jan_pets\\n    result = total_pets\\n    return result']\n",
            "\n",
            "==========================\n",
            "The answer is 28.\n"
          ]
        }
      ],
      "source": [
        "answer = interface.run(prompt, time_out=10)\n",
        "print('\\n==========================')\n",
        "print(f'The answer is {answer}.')"
      ]
    },
    {
      "cell_type": "markdown",
      "metadata": {
        "id": "IWsJ3bYs9JSt"
      },
      "source": [
        "# Reasoning about Colored Objects"
      ]
    },
    {
      "cell_type": "code",
      "execution_count": null,
      "metadata": {
        "id": "fxlCg3z_9Nzx"
      },
      "outputs": [],
      "source": [
        "interface = pal.interface.ProgramInterface(model=MODEL, get_answer_symbol='answer', stop='\\n\\n\\n', verbose=True)"
      ]
    },
    {
      "cell_type": "code",
      "execution_count": null,
      "metadata": {
        "id": "wrRPLMjq9Tif"
      },
      "outputs": [],
      "source": [
        "question = \"On the desk, you see two blue booklets, two purple booklets, and two yellow pairs of sunglasses. If I remove all the pairs of sunglasses from the desk, how many purple items remain on it?\"#@param {type:\"string\"}\n",
        "prompt = colored_object_prompt.COLOR_OBJECT_PROMPT.format(question=question)"
      ]
    },
    {
      "cell_type": "code",
      "execution_count": null,
      "metadata": {
        "colab": {
          "base_uri": "https://localhost:8080/"
        },
        "id": "z_jnBr5p9rPN",
        "outputId": "0120da7b-6ced-4b14-ce87-c453f1dab115"
      },
      "outputs": [],
      "source": [
        "answer = interface.run(prompt, time_out=10)\n",
        "print('\\n==========================')\n",
        "print(f'The answer is {answer}.')"
      ]
    },
    {
      "cell_type": "markdown",
      "metadata": {},
      "source": [
        "# Tracking Shuffled Objects (3)"
      ]
    },
    {
      "cell_type": "code",
      "execution_count": null,
      "metadata": {},
      "outputs": [],
      "source": [
        "interface = pal.interface.ProgramInterface(model=MODEL, get_answer_symbol='answer', stop='\\n\\n\\n', verbose=True)"
      ]
    },
    {
      "cell_type": "code",
      "execution_count": null,
      "metadata": {},
      "outputs": [],
      "source": [
        "question = \"Alice, Bob, and Claire are playing a game. At the start of the game, they are each holding a ball: Alice has a yellow ball, Bob has a blue ball, and Claire has a pink ball. As the game progresses, pairs of players trade balls. First, Claire and Alice swap balls. Then, Alice and Bob swap balls. Finally, Claire and Bob swap balls. At the end of the game, Bob has the Options: (A) yellow ball (B) blue ball (C) pink ball\"#@param {type:\"string\"}\n",
        "prompt = tracking_objects_prompt.TRACKING_OBJECTS_PROMPT.format(question=question)"
      ]
    },
    {
      "cell_type": "code",
      "execution_count": null,
      "metadata": {},
      "outputs": [],
      "source": [
        "answer = interface.run(prompt, time_out=10)\n",
        "print('\\n==========================')\n",
        "print(f'The answer is {answer}.')"
      ]
    },
    {
      "cell_type": "code",
      "execution_count": null,
      "metadata": {},
      "outputs": [],
      "source": []
    }
  ],
  "metadata": {
    "colab": {
      "provenance": []
    },
    "kernelspec": {
      "display_name": "Python 3",
      "language": "python",
      "name": "python3"
    },
    "language_info": {
      "codemirror_mode": {
        "name": "ipython",
        "version": 3
      },
      "file_extension": ".py",
      "mimetype": "text/x-python",
      "name": "python",
      "nbconvert_exporter": "python",
      "pygments_lexer": "ipython3",
      "version": "3.9.6"
    }
  },
  "nbformat": 4,
  "nbformat_minor": 0
}
