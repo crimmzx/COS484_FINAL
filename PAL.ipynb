{
  "nbformat": 4,
  "nbformat_minor": 0,
  "metadata": {
    "colab": {
      "provenance": []
    },
    "kernelspec": {
      "name": "python3",
      "display_name": "Python 3"
    },
    "language_info": {
      "name": "python"
    }
  },
  "cells": [
    {
      "cell_type": "markdown",
      "source": [
        "# Setup"
      ],
      "metadata": {
        "id": "_ggaEho07q6t"
      }
    },
    {
      "cell_type": "markdown",
      "source": [
        "## Install Dependencies"
      ],
      "metadata": {
        "id": "UHMPV13h7uwP"
      }
    },
    {
      "cell_type": "code",
      "execution_count": null,
      "metadata": {
        "id": "WRXYASy-3lDZ"
      },
      "outputs": [],
      "source": [
        "!git clone https://github.com/luyug/pal\n",
        "!pip install ./pal"
      ]
    },
    {
      "cell_type": "markdown",
      "source": [
        "## Configure Openai API"
      ],
      "metadata": {
        "id": "g4csR6HX7h-B"
      }
    },
    {
      "cell_type": "code",
      "source": [
        "import openai\n",
        "openai.api_key = '' #@param {type:\"string\"}\n",
        "MODEL = 'code-davinci-002' #@param {type:\"string\"}"
      ],
      "metadata": {
        "id": "Ba0ycacK4i1V"
      },
      "execution_count": null,
      "outputs": []
    },
    {
      "cell_type": "code",
      "source": [
        "import pal\n",
        "from pal.prompt import colored_object_prompt, math_prompts"
      ],
      "metadata": {
        "id": "H_qTZkXg42V4"
      },
      "execution_count": null,
      "outputs": []
    },
    {
      "cell_type": "markdown",
      "source": [
        "# GSM-8K"
      ],
      "metadata": {
        "id": "12PptLdv5HkK"
      }
    },
    {
      "cell_type": "code",
      "source": [
        "interface = pal.interface.ProgramInterface(model=MODEL, get_answer_expr='solution()', verbose=True)"
      ],
      "metadata": {
        "id": "iJ0kqDTC5SG4"
      },
      "execution_count": null,
      "outputs": []
    },
    {
      "cell_type": "code",
      "source": [
        "question = \"Jan has three times the number of pets as Marcia. Marcia has two more pets than Cindy. If Cindy has four pets, how many total pets do the three have?\"#@param {type:\"string\"}\n",
        "prompt = math_prompts.MATH_PROMPT.format(question=question)"
      ],
      "metadata": {
        "id": "lRK5CwCG5GGE"
      },
      "execution_count": null,
      "outputs": []
    },
    {
      "cell_type": "code",
      "source": [
        "answer = interface.run(prompt, time_out=10)\n",
        "print('\\n==========================')\n",
        "print(f'The answer is {answer}.')"
      ],
      "metadata": {
        "colab": {
          "base_uri": "https://localhost:8080/"
        },
        "id": "_kwZ8Cvw50qF",
        "outputId": "bb1f26df-b03d-435c-ad09-7c71dc549850"
      },
      "execution_count": null,
      "outputs": [
        {
          "output_type": "stream",
          "name": "stdout",
          "text": [
            "def solution():\n",
            "    \"\"\"Jan has three times the number of pets as Marcia. Marcia has two more pets than Cindy. If Cindy has four pets, how many total pets do the three have?\"\"\"\n",
            "    cindy_pets = 4\n",
            "    marcia_pets = cindy_pets + 2\n",
            "    jan_pets = marcia_pets * 3\n",
            "    total_pets = cindy_pets + marcia_pets + jan_pets\n",
            "    result = total_pets\n",
            "    return result\n",
            "\n",
            "==========================\n",
            "The answer is 28.\n"
          ]
        }
      ]
    },
    {
      "cell_type": "markdown",
      "source": [
        "# Reasoning about Colored Objects"
      ],
      "metadata": {
        "id": "IWsJ3bYs9JSt"
      }
    },
    {
      "cell_type": "code",
      "source": [
        "interface = pal.interface.ProgramInterface(model=MODEL, get_answer_symbol='answer', stop='\\n\\n\\n', verbose=True)"
      ],
      "metadata": {
        "id": "fxlCg3z_9Nzx"
      },
      "execution_count": null,
      "outputs": []
    },
    {
      "cell_type": "code",
      "source": [
        "question = \"On the desk, you see two blue booklets, two purple booklets, and two yellow pairs of sunglasses. If I remove all the pairs of sunglasses from the desk, how many purple items remain on it?\"#@param {type:\"string\"}\n",
        "prompt = colored_object_prompt.COLOR_OBJECT_PROMPT.format(question=question)"
      ],
      "metadata": {
        "id": "wrRPLMjq9Tif"
      },
      "execution_count": null,
      "outputs": []
    },
    {
      "cell_type": "code",
      "source": [
        "answer = interface.run(prompt, time_out=10)\n",
        "print('\\n==========================')\n",
        "print(f'The answer is {answer}.')"
      ],
      "metadata": {
        "colab": {
          "base_uri": "https://localhost:8080/"
        },
        "id": "z_jnBr5p9rPN",
        "outputId": "0120da7b-6ced-4b14-ce87-c453f1dab115"
      },
      "execution_count": null,
      "outputs": [
        {
          "output_type": "stream",
          "name": "stdout",
          "text": [
            "# Put objects into a list to record ordering\n",
            "objects = []\n",
            "objects += [('booklet', 'blue')] * 2\n",
            "objects += [('booklet', 'purple')] * 2\n",
            "objects += [('sunglasses', 'yellow')] * 2\n",
            "\n",
            "# Remove all pairs of sunglasses\n",
            "objects = [object for object in objects if object[0] != 'sunglasses']\n",
            "\n",
            "# Count number of purple objects\n",
            "num_purple = len([object for object in objects if object[1] == 'purple'])\n",
            "answer = num_purple\n",
            "\n",
            "==========================\n",
            "The answer is 2.\n"
          ]
        }
      ]
    }
  ]
}